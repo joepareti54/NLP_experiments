{
 "cells": [
  {
   "cell_type": "code",
   "execution_count": 1,
   "metadata": {},
   "outputs": [
    {
     "name": "stderr",
     "output_type": "stream",
     "text": [
      "[nltk_data] Downloading package punkt to\n",
      "[nltk_data]     /home/joepareti54/nltk_data...\n",
      "[nltk_data]   Package punkt is already up-to-date!\n"
     ]
    }
   ],
   "source": [
    "import pandas as pd\n",
    "import numpy as np\n",
    "import nltk\n",
    "nltk.download('punkt')\n",
    "import re\n",
    "from nltk.corpus import stopwords"
   ]
  },
  {
   "cell_type": "code",
   "execution_count": 2,
   "metadata": {},
   "outputs": [
    {
     "name": "stdout",
     "output_type": "stream",
     "text": [
      "/media/joepareti54/Elements/x/finance-2021/AI/NLP/adavanced\r\n"
     ]
    }
   ],
   "source": [
    "!pwd"
   ]
  },
  {
   "cell_type": "code",
   "execution_count": null,
   "metadata": {},
   "outputs": [],
   "source": [
    "#!pip install google-colab"
   ]
  },
  {
   "cell_type": "code",
   "execution_count": null,
   "metadata": {},
   "outputs": [],
   "source": [
    "#from google.colab import files\n",
    "#uploaded = files.upload()\n",
    "#df = pd.read_csv(\"tennis.csv\")\n",
    "#df.head()"
   ]
  },
  {
   "cell_type": "code",
   "execution_count": 3,
   "metadata": {},
   "outputs": [],
   "source": [
    "text = \"\"\"The Day Coronavirus Nearly Broke the Financial Markets.\n",
    "The March 16 stock crash was part of a broader liquidity crisis that threatened the viability of\n",
    "America’s companies and municipalities.\n",
    "An urgent call reached Ronald O’Hanley, State Street Corp.’s chief executive, as he\n",
    "sat in his oﬃce in downtown Boston. It was 8 a.m. on Monday, March 16.\n",
    "A senior deputy told him corporate treasurers and pension managers, panicked by\n",
    "the growing economic damage from the Covid-19 pandemic, were pulling billions\n",
    "of dollars from certain money-market funds. This was forcing the funds to try to\n",
    "sell some of the bonds they held.\n",
    "But there were almost no buyers. Everybody was suddenly desperate for cash.\n",
    "He and the deputy, asset-management executive Cyrus Taraporevala, had spoken\n",
    "the night before, wrestling with how investors would respond to an emergency\n",
    "interest-rate cut from the Federal Reserve.\n",
    "Now, they had their answer. In his 34 years in ﬁnance, Mr. O’Hanley had\n",
    "weathered plenty of meltdowns, but never one like this.\n",
    "“The market is fearing the worst,” Mr. O’Hanley told him.\n",
    "March 16 was the day a microscopic virus brought the ﬁnancial system to the\n",
    "brink. Few realized how close it came to going over the edge entirely.\n",
    "The Dow Jones Industrial Average plunged nearly 13% that day, the second biggest one-day fall in history. \n",
    "Stock-market volatility spiked to a record high.\n",
    "Investors struggled to unload even safe bonds, like Treasurys. Companies and\n",
    "government oﬃcials were losing access to the lending markets on which they rely\n",
    "to make payroll and build schools.\n",
    "\"\"\""
   ]
  },
  {
   "cell_type": "code",
   "execution_count": 4,
   "metadata": {},
   "outputs": [],
   "source": [
    "from nltk.tokenize import sent_tokenize\n",
    "sentences = []\n",
    "\n",
    "sentences.append(sent_tokenize(text))\n",
    "\n",
    "sentences = [y for x in sentences for y in x]"
   ]
  },
  {
   "cell_type": "code",
   "execution_count": 6,
   "metadata": {},
   "outputs": [
    {
     "name": "stderr",
     "output_type": "stream",
     "text": [
      "/tmp/ipykernel_9269/2999140426.py:10: FutureWarning: The default value of regex will change from True to False in a future version.\n",
      "  clean_sentences = pd.Series(sentences).str.replace(\"[^a-zA-Z]\", \" \")\n"
     ]
    }
   ],
   "source": [
    "word_embeddings = {}\n",
    "f = open('glove.6B.100d.txt', encoding='utf-8')\n",
    "for line in f:\n",
    "    values = line.split()\n",
    "    word = values[0]\n",
    "    coefs = np.asarray(values[1:], dtype='float32')\n",
    "    word_embeddings[word] = coefs\n",
    "f.close()\n",
    "\n",
    "clean_sentences = pd.Series(sentences).str.replace(\"[^a-zA-Z]\", \" \")\n",
    "clean_sentences = [s.lower() for s in clean_sentences]\n",
    "stop_words = stopwords.words('english')\n",
    "def remove_stopwords(sen):\n",
    "    sen_new = \" \".join([i for i in sen if i not in stop_words])\n",
    "    return sen_new\n",
    "clean_sentences = [remove_stopwords(r.split()) for r in clean_sentences]"
   ]
  },
  {
   "cell_type": "code",
   "execution_count": 7,
   "metadata": {},
   "outputs": [],
   "source": [
    "sentence_vectors = []\n",
    "for i in clean_sentences:\n",
    "  if len(i) != 0:\n",
    "    v = sum([word_embeddings.get(w, np.zeros((100,))) for w in i.split()])/(len(i.split())+0.001)\n",
    "  else:\n",
    "    v = np.zeros((100,))\n",
    "  sentence_vectors.append(v)"
   ]
  },
  {
   "cell_type": "code",
   "execution_count": 8,
   "metadata": {},
   "outputs": [],
   "source": [
    "sim_mat = np.zeros([len(sentences), len(sentences)])\n",
    "from sklearn.metrics.pairwise import cosine_similarity\n",
    "for i in range(len(sentences)):\n",
    "  for j in range(len(sentences)):\n",
    "    if i != j:\n",
    "      sim_mat[i][j] = cosine_similarity(sentence_vectors[i].reshape(1,100), sentence_vectors[j].reshape(1,100))[0,0]"
   ]
  },
  {
   "cell_type": "code",
   "execution_count": 9,
   "metadata": {},
   "outputs": [],
   "source": [
    "import networkx as nx\n",
    "\n",
    "nx_graph = nx.from_numpy_array(sim_mat)\n",
    "scores = nx.pagerank(nx_graph)"
   ]
  },
  {
   "cell_type": "code",
   "execution_count": 11,
   "metadata": {},
   "outputs": [
    {
     "name": "stdout",
     "output_type": "stream",
     "text": [
      "ARTICLE:\n",
      "\n",
      "\n",
      "SUMMARY:\n",
      "He and the deputy, asset-management executive Cyrus Taraporevala, had spoken\n",
      "the night before, wrestling with how investors would respond to an emergency\n",
      "interest-rate cut from the Federal Reserve.\n",
      "\n",
      "\n",
      "ARTICLE:\n",
      "\n",
      "\n",
      "SUMMARY:\n",
      "A senior deputy told him corporate treasurers and pension managers, panicked by\n",
      "the growing economic damage from the Covid-19 pandemic, were pulling billions\n",
      "of dollars from certain money-market funds.\n",
      "\n",
      "\n",
      "ARTICLE:\n",
      "\n",
      "\n",
      "SUMMARY:\n",
      "The March 16 stock crash was part of a broader liquidity crisis that threatened the viability of\n",
      "America’s companies and municipalities.\n",
      "\n",
      "\n",
      "ARTICLE:\n",
      "\n",
      "\n",
      "SUMMARY:\n",
      "The Day Coronavirus Nearly Broke the Financial Markets.\n",
      "\n",
      "\n",
      "ARTICLE:\n",
      "\n",
      "\n",
      "SUMMARY:\n",
      "The Dow Jones Industrial Average plunged nearly 13% that day, the second biggest one-day fall in history.\n",
      "\n",
      "\n"
     ]
    }
   ],
   "source": [
    "ranked_sentences = sorted(((scores[i],s) for i,s in enumerate(sentences)), reverse=True)\n",
    "for i in range(5):\n",
    "  print(\"ARTICLE:\")\n",
    "#  print(df['article_text'][i])\n",
    "  print('\\n')\n",
    "  print(\"SUMMARY:\")\n",
    "  print(ranked_sentences[i][1])\n",
    "  print('\\n')"
   ]
  }
 ],
 "metadata": {
  "kernelspec": {
   "display_name": "Python 3 (ipykernel)",
   "language": "python",
   "name": "python3"
  },
  "language_info": {
   "codemirror_mode": {
    "name": "ipython",
    "version": 3
   },
   "file_extension": ".py",
   "mimetype": "text/x-python",
   "name": "python",
   "nbconvert_exporter": "python",
   "pygments_lexer": "ipython3",
   "version": "3.8.5"
  }
 },
 "nbformat": 4,
 "nbformat_minor": 4
}
